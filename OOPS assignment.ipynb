{
 "cells": [
  {
   "cell_type": "markdown",
   "id": "1bc24386-9162-4132-b094-1ab536f78adf",
   "metadata": {},
   "source": [
    "Question 1. Explain Class and Object with respect to Object-Oriented Programming. Give a suitable example."
   ]
  },
  {
   "cell_type": "markdown",
   "id": "374d9b5a-1683-4423-9f17-97c7e8bf7b6f",
   "metadata": {},
   "source": [
    "In object-oriented programming (OOPS), a class is like an object constructor or a blueprint for creating objects and on the other hand object is a instance of a class. It bre presents a specific entity or item that is created based on the class definition."
   ]
  },
  {
   "cell_type": "code",
   "execution_count": 9,
   "id": "2d5c18a1-5ae0-40db-bd78-160aa04bf442",
   "metadata": {},
   "outputs": [],
   "source": [
    "class vechile:\n",
    "    \n",
    "    def __init__(self ,car , model , power  ):\n",
    "        self.car=car\n",
    "        self.model=model\n",
    "        self.power=power\n",
    "        \n",
    "    def return_car_details(self):\n",
    "        return self.car, self.model, self.power\n",
    "    \n",
    "\n",
    "maruti=vechile(\"Alto\",2013,110)\n",
    "audi=vechile(\"x1\",2020,500)\n",
    "bently=vechile(\"m5\",2023,800)"
   ]
  },
  {
   "cell_type": "markdown",
   "id": "57776377-8105-4c2c-9919-776022f74b45",
   "metadata": {},
   "source": [
    "Question 2. Name the four pillars of OOPs."
   ]
  },
  {
   "cell_type": "markdown",
   "id": "d3b23c47-2115-4fed-b813-ce179abfc9f6",
   "metadata": {},
   "source": [
    "four pillars of OOPs are -\n",
    "1.Encapsulation\n",
    "2.Inheritance\n",
    "3.Polymorphism\n",
    "4.Abstraction"
   ]
  },
  {
   "cell_type": "markdown",
   "id": "02010295-6fb9-4f56-8a55-1ce00735c575",
   "metadata": {},
   "source": [
    "Question 3. Explain why the __init__() function is used. Give a suitable example."
   ]
  },
  {
   "cell_type": "code",
   "execution_count": 13,
   "id": "7a443685-d243-486c-a5ed-5170e559e7d2",
   "metadata": {},
   "outputs": [
    {
     "name": "stdout",
     "output_type": "stream",
     "text": [
      "Hello, My name is Saurabh kumar and i'm 26 years old \n",
      "Hello, My name is Sachin rajput and i'm 28 years old \n"
     ]
    }
   ],
   "source": [
    "class person:\n",
    "    def __init__ (self, name, age):\n",
    "        self.name=name\n",
    "        self.age=age\n",
    "        \n",
    "    def introduce(self):\n",
    "        print(f\"Hello, My name is {self.name} and i'm {self.age} years old \")\n",
    "    \n",
    "person1=person(\"Saurabh kumar\", 26)\n",
    "person2=person(\"Sachin rajput\", 28)\n",
    "\n",
    "person1.introduce()\n",
    "person2.introduce()"
   ]
  },
  {
   "cell_type": "markdown",
   "id": "a851332b-045f-4b90-9a42-7687cdb3f57f",
   "metadata": {},
   "source": [
    "Question 4. Why self is used in OOPs?"
   ]
  },
  {
   "cell_type": "markdown",
   "id": "c4897513-82c6-4dc8-9711-f7fbe5e48c42",
   "metadata": {},
   "source": [
    "self parameter is used to refer to the instance of a class. It is a convention in Python to use self as the first parameter in instance methods. The self parameter allows us to access the attributes and methods of the class within its own scope."
   ]
  },
  {
   "cell_type": "markdown",
   "id": "c93d5e6f-5350-45b6-837d-822b864e439f",
   "metadata": {},
   "source": [
    "Question 5. What is inheritance? Give an example for each type of inheritance."
   ]
  },
  {
   "cell_type": "markdown",
   "id": "69ca94d1-1046-484c-9b81-b98169926857",
   "metadata": {},
   "source": [
    "Inheritance is a mechanism in which one class inherits the properties and methods of another class. The class thet is being inherited from is called the parent class or base class, and the class that inherits from its is called child class or derived class. Inheritace allows for code reuse the promotes the concept of hierachical relationship btween classes."
   ]
  },
  {
   "cell_type": "code",
   "execution_count": null,
   "id": "9ea7b684-25a7-4646-90b1-b6d0d4934276",
   "metadata": {},
   "outputs": [],
   "source": []
  }
 ],
 "metadata": {
  "kernelspec": {
   "display_name": "Python 3 (ipykernel)",
   "language": "python",
   "name": "python3"
  },
  "language_info": {
   "codemirror_mode": {
    "name": "ipython",
    "version": 3
   },
   "file_extension": ".py",
   "mimetype": "text/x-python",
   "name": "python",
   "nbconvert_exporter": "python",
   "pygments_lexer": "ipython3",
   "version": "3.10.8"
  }
 },
 "nbformat": 4,
 "nbformat_minor": 5
}
